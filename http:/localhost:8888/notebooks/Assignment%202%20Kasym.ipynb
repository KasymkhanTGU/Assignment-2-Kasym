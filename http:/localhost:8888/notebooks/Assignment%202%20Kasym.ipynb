In [3]:

import pandas as pd
pd.read_csv("Downloads/surveys.csv")
Out[3]:
record_id	month	day	year	plot_id	species_id	sex	hindfoot_length	weight
0	1	7	16	1977	2	NL	M	32.0	NaN
1	2	7	16	1977	3	NL	M	33.0	NaN
2	3	7	16	1977	2	DM	F	37.0	NaN
3	4	7	16	1977	7	DM	M	36.0	NaN
4	5	7	16	1977	3	DM	M	35.0	NaN
...	...	...	...	...	...	...	...	...	...
35544	35545	12	31	2002	15	AH	NaN	NaN	NaN
35545	35546	12	31	2002	15	AH	NaN	NaN	NaN
35546	35547	12	31	2002	10	RM	F	15.0	14.0
35547	35548	12	31	2002	7	DO	M	36.0	51.0
35548	35549	12	31	2002	5	NaN	NaN	NaN	NaN
35549 rows × 9 columns
In [4]:

surveys_df = pd.read_csv("Downloads/surveys.csv")
surveys_df
Out[4]:
record_id	month	day	year	plot_id	species_id	sex	hindfoot_length	weight
0	1	7	16	1977	2	NL	M	32.0	NaN
1	2	7	16	1977	3	NL	M	33.0	NaN
2	3	7	16	1977	2	DM	F	37.0	NaN
3	4	7	16	1977	7	DM	M	36.0	NaN
4	5	7	16	1977	3	DM	M	35.0	NaN
...	...	...	...	...	...	...	...	...	...
35544	35545	12	31	2002	15	AH	NaN	NaN	NaN
35545	35546	12	31	2002	15	AH	NaN	NaN	NaN
35546	35547	12	31	2002	10	RM	F	15.0	14.0
35547	35548	12	31	2002	7	DO	M	36.0	51.0
35548	35549	12	31	2002	5	NaN	NaN	NaN	NaN
35549 rows × 9 columns
In [5]:

surveys_df.head()
Out[5]:
record_id	month	day	year	plot_id	species_id	sex	hindfoot_length	weight
0	1	7	16	1977	2	NL	M	32.0	NaN
1	2	7	16	1977	3	NL	M	33.0	NaN
2	3	7	16	1977	2	DM	F	37.0	NaN
3	4	7	16	1977	7	DM	M	36.0	NaN
4	5	7	16	1977	3	DM	M	35.0	NaN
In [6]:

type(surveys_df)
Out[6]:
pandas.core.frame.DataFrame
In [7]:

surveys_df.dtypes
Out[7]:
record_id            int64
month                int64
day                  int64
year                 int64
plot_id              int64
species_id          object
sex                 object
hindfoot_length    float64
weight             float64
dtype: object
In [8]:

surveys_df.columns
Out[8]:
Index(['record_id', 'month', 'day', 'year', 'plot_id', 'species_id', 'sex',
       'hindfoot_length', 'weight'],
      dtype='object')
In [9]:

pd.unique(surveys_df['species_id'])
Out[9]:
array(['NL', 'DM', 'PF', 'PE', 'DS', 'PP', 'SH', 'OT', 'DO', 'OX', 'SS',
       'OL', 'RM', nan, 'SA', 'PM', 'AH', 'DX', 'AB', 'CB', 'CM', 'CQ',
       'RF', 'PC', 'PG', 'PH', 'PU', 'CV', 'UR', 'UP', 'ZL', 'UL', 'CS',
       'SC', 'BA', 'SF', 'RO', 'AS', 'SO', 'PI', 'ST', 'CU', 'SU', 'RX',
       'PB', 'PL', 'PX', 'CT', 'US'], dtype=object)
In [12]:

surveys_df['weight'].describe()
Out[12]:
count    32283.000000
mean        42.672428
std         36.631259
min          4.000000
25%         20.000000
50%         37.000000
75%         48.000000
max        280.000000
Name: weight, dtype: float64
In [13]:

surveys_df['weight'].min()
surveys_df['weight'].max()
surveys_df['weight'].mean()
surveys_df['weight'].std()
surveys_df['weight'].count()
Out[13]:
32283
In [15]:

grouped_data = surveys_df.groupby('sex')
grouped_data.describe()
grouped_data.mean()
Out[15]:
record_id	month	day	year	plot_id	hindfoot_length	weight
sex							
F	18036.412046	6.583047	16.007138	1990.644997	11.440854	28.836780	42.170555
M	17754.835601	6.392668	16.184286	1990.480401	11.098282	29.709578	42.995379
In [16]:

species_counts = surveys_df.groupby('species_id')['record_id'].count()
print(species_counts)
species_id
AB      303
AH      437
AS        2
BA       46
CB       50
CM       13
CQ       16
CS        1
CT        1
CU        1
CV        1
DM    10596
DO     3027
DS     2504
DX       40
NL     1252
OL     1006
OT     2249
OX       12
PB     2891
PC       39
PE     1299
PF     1597
PG        8
PH       32
PI        9
PL       36
PM      899
PP     3123
PU        5
PX        6
RF       75
RM     2609
RO        8
RX        2
SA       75
SC        1
SF       43
SH      147
SO       43
SS      248
ST        1
SU        5
UL        4
UP        8
UR       10
US        4
ZL        2
Name: record_id, dtype: int64
In [17]:

surveys_df.groupby('species_id')['record_id'].count()['DO']
Out[17]:
3027
In [18]:

surveys_df['weight']*2
Out[18]:
0          NaN
1          NaN
2          NaN
3          NaN
4          NaN
         ...  
35544      NaN
35545      NaN
35546     28.0
35547    102.0
35548      NaN
Name: weight, Length: 35549, dtype: float64
In [19]:

%matplotlib inline
species_counts.plot(kind='bar');

In [20]:

total_count = surveys_df.groupby('plot_id')['record_id'].nunique()
total_count.plot(kind='bar');

In [21]:

d = {'one' : pd.Series([1., 2., 3.], index=['a', 'b', 'c']),'two' : pd.Series([1., 2., 3., 4.], index=['a', 'b', 'c', 'd'])}
pd.DataFrame(d)
Out[21]:
one	two
a	1.0	1.0
b	2.0	2.0
c	3.0	3.0
d	NaN	4.0
In [22]:

my_df = pd.DataFrame(d)
my_df.plot(kind='bar',stacked=True,title="The title of my graph")
Out[22]:
<matplotlib.axes._subplots.AxesSubplot at 0x11fe25ed0>

In [23]:

import pandas as pd
surveys_df = pd.read_csv("Downloads/surveys.csv")
In [24]:

surveys_df['species_id']
surveys_df.species_id
Out[24]:
0         NL
1         NL
2         DM
3         DM
4         DM
        ... 
35544     AH
35545     AH
35546     RM
35547     DO
35548    NaN
Name: species_id, Length: 35549, dtype: object
In [25]:

surveys_species = surveys_df['species_id']
In [28]:

surveys_df[['plot_id', 'species_id']]
Out[28]:
plot_id	species_id
0	2	NL
1	3	NL
2	2	DM
3	7	DM
4	3	DM
...	...	...
35544	15	AH
35545	15	AH
35546	10	RM
35547	7	DO
35548	5	NaN
35549 rows × 2 columns
In [29]:

surveys_df['speciess']
---------------------------------------------------------------------------
KeyError                                  Traceback (most recent call last)
/opt/anaconda3/lib/python3.7/site-packages/pandas/core/indexes/base.py in get_loc(self, key, method, tolerance)
   2896             try:
-> 2897                 return self._engine.get_loc(key)
   2898             except KeyError:

pandas/_libs/index.pyx in pandas._libs.index.IndexEngine.get_loc()

pandas/_libs/index.pyx in pandas._libs.index.IndexEngine.get_loc()

pandas/_libs/hashtable_class_helper.pxi in pandas._libs.hashtable.PyObjectHashTable.get_item()

pandas/_libs/hashtable_class_helper.pxi in pandas._libs.hashtable.PyObjectHashTable.get_item()

KeyError: 'speciess'

During handling of the above exception, another exception occurred:

KeyError                                  Traceback (most recent call last)
<ipython-input-29-aad08ab9d2d1> in <module>
----> 1 surveys_df['speciess']

/opt/anaconda3/lib/python3.7/site-packages/pandas/core/frame.py in __getitem__(self, key)
   2978             if self.columns.nlevels > 1:
   2979                 return self._getitem_multilevel(key)
-> 2980             indexer = self.columns.get_loc(key)
   2981             if is_integer(indexer):
   2982                 indexer = [indexer]

/opt/anaconda3/lib/python3.7/site-packages/pandas/core/indexes/base.py in get_loc(self, key, method, tolerance)
   2897                 return self._engine.get_loc(key)
   2898             except KeyError:
-> 2899                 return self._engine.get_loc(self._maybe_cast_indexer(key))
   2900         indexer = self.get_indexer([key], method=method, tolerance=tolerance)
   2901         if indexer.ndim > 1 or indexer.size > 1:

pandas/_libs/index.pyx in pandas._libs.index.IndexEngine.get_loc()

pandas/_libs/index.pyx in pandas._libs.index.IndexEngine.get_loc()

pandas/_libs/hashtable_class_helper.pxi in pandas._libs.hashtable.PyObjectHashTable.get_item()

pandas/_libs/hashtable_class_helper.pxi in pandas._libs.hashtable.PyObjectHashTable.get_item()

KeyError: 'speciess'

In [30]:

a = [1, 2, 3, 4, 5]
In [31]:

a[0]
Out[31]:
1
In [32]:

a[5]
---------------------------------------------------------------------------
IndexError                                Traceback (most recent call last)
<ipython-input-32-4a84d856522b> in <module>
----> 1 a[5]

IndexError: list index out of range

In [33]:

a[len(a)]
---------------------------------------------------------------------------
IndexError                                Traceback (most recent call last)
<ipython-input-33-836f840eaf9f> in <module>
----> 1 a[len(a)]

IndexError: list index out of range

In [34]:

surveys_df[0:3]
Out[34]:
record_id	month	day	year	plot_id	species_id	sex	hindfoot_length	weight
0	1	7	16	1977	2	NL	M	32.0	NaN
1	2	7	16	1977	3	NL	M	33.0	NaN
2	3	7	16	1977	2	DM	F	37.0	NaN
In [35]:

surveys_df[:5]
Out[35]:
record_id	month	day	year	plot_id	species_id	sex	hindfoot_length	weight
0	1	7	16	1977	2	NL	M	32.0	NaN
1	2	7	16	1977	3	NL	M	33.0	NaN
2	3	7	16	1977	2	DM	F	37.0	NaN
3	4	7	16	1977	7	DM	M	36.0	NaN
4	5	7	16	1977	3	DM	M	35.0	NaN
In [36]:

surveys_df[-1:]
Out[36]:
record_id	month	day	year	plot_id	species_id	sex	hindfoot_length	weight
35548	35549	12	31	2002	5	NaN	NaN	NaN	NaN
In [37]:

true_copy_surveys_df = surveys_df.copy()
In [38]:

ref_surveys_df = surveys_df
In [39]:

ref_surveys_df[0:3] = 0
In [40]:

ref_surveys_df.head()
Out[40]:
record_id	month	day	year	plot_id	species_id	sex	hindfoot_length	weight
0	0	0	0	0	0	0	0	0.0	0.0
1	0	0	0	0	0	0	0	0.0	0.0
2	0	0	0	0	0	0	0	0.0	0.0
3	4	7	16	1977	7	DM	M	36.0	NaN
4	5	7	16	1977	3	DM	M	35.0	NaN
In [41]:

surveys_df.head()
Out[41]:
record_id	month	day	year	plot_id	species_id	sex	hindfoot_length	weight
0	0	0	0	0	0	0	0	0.0	0.0
1	0	0	0	0	0	0	0	0.0	0.0
2	0	0	0	0	0	0	0	0.0	0.0
3	4	7	16	1977	7	DM	M	36.0	NaN
4	5	7	16	1977	3	DM	M	35.0	NaN
In [42]:

true_copy_surveys_df = surveys_df.copy()
In [43]:

ref_surveys_df = surveys_df
In [45]:

surveys_df = pd.read_csv("Downloads/surveys.csv")
In [46]:

surveys_df.iloc[0:3, 1:4]
Out[46]:
month	day	year
0	7	16	1977
1	7	16	1977
2	7	16	1977
In [47]:

surveys_df.loc[[0, 10], :]
Out[47]:
record_id	month	day	year	plot_id	species_id	sex	hindfoot_length	weight
0	1	7	16	1977	2	NL	M	32.0	NaN
10	11	7	16	1977	5	DS	F	53.0	NaN
In [48]:

surveys_df.loc[0, ['species_id', 'plot_id', 'weight']]
Out[48]:
species_id     NL
plot_id         2
weight        NaN
Name: 0, dtype: object
In [49]:

surveys_df.loc[[0, 10, 35549], :]
/opt/anaconda3/lib/python3.7/site-packages/pandas/core/indexing.py:1418: FutureWarning: 
Passing list-likes to .loc or [] with any missing label will raise
KeyError in the future, you can use .reindex() as an alternative.

See the documentation here:
https://pandas.pydata.org/pandas-docs/stable/user_guide/indexing.html#deprecate-loc-reindex-listlike
  return self._getitem_tuple(key)
Out[49]:
record_id	month	day	year	plot_id	species_id	sex	hindfoot_length	weight
0	1.0	7.0	16.0	1977.0	2.0	NL	M	32.0	NaN
10	11.0	7.0	16.0	1977.0	5.0	DS	F	53.0	NaN
35549	NaN	NaN	NaN	NaN	NaN	NaN	NaN	NaN	NaN
In [51]:

surveys_df.iloc[2, 6]
Out[51]:
'F'
In [52]:

surveys_df[0:1]
Out[52]:
record_id	month	day	year	plot_id	species_id	sex	hindfoot_length	weight
0	1	7	16	1977	2	NL	M	32.0	NaN
In [53]:

surveys_df[:4]
Out[53]:
record_id	month	day	year	plot_id	species_id	sex	hindfoot_length	weight
0	1	7	16	1977	2	NL	M	32.0	NaN
1	2	7	16	1977	3	NL	M	33.0	NaN
2	3	7	16	1977	2	DM	F	37.0	NaN
3	4	7	16	1977	7	DM	M	36.0	NaN
In [54]:

surveys_df[:-1]
Out[54]:
record_id	month	day	year	plot_id	species_id	sex	hindfoot_length	weight
0	1	7	16	1977	2	NL	M	32.0	NaN
1	2	7	16	1977	3	NL	M	33.0	NaN
2	3	7	16	1977	2	DM	F	37.0	NaN
3	4	7	16	1977	7	DM	M	36.0	NaN
4	5	7	16	1977	3	DM	M	35.0	NaN
...	...	...	...	...	...	...	...	...	...
35543	35544	12	31	2002	15	US	NaN	NaN	NaN
35544	35545	12	31	2002	15	AH	NaN	NaN	NaN
35545	35546	12	31	2002	15	AH	NaN	NaN	NaN
35546	35547	12	31	2002	10	RM	F	15.0	14.0
35547	35548	12	31	2002	7	DO	M	36.0	51.0
35548 rows × 9 columns
In [55]:

surveys_df.iloc[0:4, 1:4]
Out[55]:
month	day	year
0	7	16	1977
1	7	16	1977
2	7	16	1977
3	7	16	1977
In [56]:

surveys_df.loc[0:4, 1:4]
---------------------------------------------------------------------------
TypeError                                 Traceback (most recent call last)
<ipython-input-56-aed7dd61eef6> in <module>
----> 1 surveys_df.loc[0:4, 1:4]

/opt/anaconda3/lib/python3.7/site-packages/pandas/core/indexing.py in __getitem__(self, key)
   1416                 except (KeyError, IndexError, AttributeError):
   1417                     pass
-> 1418             return self._getitem_tuple(key)
   1419         else:
   1420             # we by definition only have the 0th axis

/opt/anaconda3/lib/python3.7/site-packages/pandas/core/indexing.py in _getitem_tuple(self, tup)
    820                 continue
    821 
--> 822             retval = getattr(retval, self.name)._getitem_axis(key, axis=i)
    823 
    824         return retval

/opt/anaconda3/lib/python3.7/site-packages/pandas/core/indexing.py in _getitem_axis(self, key, axis)
   1795         if isinstance(key, slice):
   1796             self._validate_key(key, axis)
-> 1797             return self._get_slice_axis(key, axis=axis)
   1798         elif com.is_bool_indexer(key):
   1799             return self._getbool_axis(key, axis=axis)

/opt/anaconda3/lib/python3.7/site-packages/pandas/core/indexing.py in _get_slice_axis(self, slice_obj, axis)
   1452         labels = obj._get_axis(axis)
   1453         indexer = labels.slice_indexer(
-> 1454             slice_obj.start, slice_obj.stop, slice_obj.step, kind=self.name
   1455         )
   1456 

/opt/anaconda3/lib/python3.7/site-packages/pandas/core/indexes/base.py in slice_indexer(self, start, end, step, kind)
   5032         slice(1, 3)
   5033         """
-> 5034         start_slice, end_slice = self.slice_locs(start, end, step=step, kind=kind)
   5035 
   5036         # return a slice

/opt/anaconda3/lib/python3.7/site-packages/pandas/core/indexes/base.py in slice_locs(self, start, end, step, kind)
   5246         start_slice = None
   5247         if start is not None:
-> 5248             start_slice = self.get_slice_bound(start, "left", kind)
   5249         if start_slice is None:
   5250             start_slice = 0

/opt/anaconda3/lib/python3.7/site-packages/pandas/core/indexes/base.py in get_slice_bound(self, label, side, kind)
   5158         # For datetime indices label may be a string that has to be converted
   5159         # to datetime boundary according to its resolution.
-> 5160         label = self._maybe_cast_slice_bound(label, side, kind)
   5161 
   5162         # we need to look up the label

/opt/anaconda3/lib/python3.7/site-packages/pandas/core/indexes/base.py in _maybe_cast_slice_bound(self, label, side, kind)
   5110         # this is rejected (generally .loc gets you here)
   5111         elif is_integer(label):
-> 5112             self._invalid_indexer("slice", label)
   5113 
   5114         return label

/opt/anaconda3/lib/python3.7/site-packages/pandas/core/indexes/base.py in _invalid_indexer(self, form, key)
   3338             "cannot do {form} indexing on {klass} with these "
   3339             "indexers [{key}] of {kind}".format(
-> 3340                 form=form, klass=type(self), key=key, kind=type(key)
   3341             )
   3342         )

TypeError: cannot do slice indexing on <class 'pandas.core.indexes.base.Index'> with these indexers [1] of <class 'int'>

In [57]:

surveys_df[surveys_df.year == 2002]
Out[57]:
record_id	month	day	year	plot_id	species_id	sex	hindfoot_length	weight
33320	33321	1	12	2002	1	DM	M	38.0	44.0
33321	33322	1	12	2002	1	DO	M	37.0	58.0
33322	33323	1	12	2002	1	PB	M	28.0	45.0
33323	33324	1	12	2002	1	AB	NaN	NaN	NaN
33324	33325	1	12	2002	1	DO	M	35.0	29.0
...	...	...	...	...	...	...	...	...	...
35544	35545	12	31	2002	15	AH	NaN	NaN	NaN
35545	35546	12	31	2002	15	AH	NaN	NaN	NaN
35546	35547	12	31	2002	10	RM	F	15.0	14.0
35547	35548	12	31	2002	7	DO	M	36.0	51.0
35548	35549	12	31	2002	5	NaN	NaN	NaN	NaN
2229 rows × 9 columns
In [58]:

surveys_df[surveys_df.year != 2002]
Out[58]:
record_id	month	day	year	plot_id	species_id	sex	hindfoot_length	weight
0	1	7	16	1977	2	NL	M	32.0	NaN
1	2	7	16	1977	3	NL	M	33.0	NaN
2	3	7	16	1977	2	DM	F	37.0	NaN
3	4	7	16	1977	7	DM	M	36.0	NaN
4	5	7	16	1977	3	DM	M	35.0	NaN
...	...	...	...	...	...	...	...	...	...
33315	33316	12	16	2001	11	NaN	NaN	NaN	NaN
33316	33317	12	16	2001	13	NaN	NaN	NaN	NaN
33317	33318	12	16	2001	14	NaN	NaN	NaN	NaN
33318	33319	12	16	2001	15	NaN	NaN	NaN	NaN
33319	33320	12	16	2001	16	NaN	NaN	NaN	NaN
33320 rows × 9 columns
In [59]:

surveys_df[(surveys_df.year >= 1980) & (surveys_df.year <= 1985)]
Out[59]:
record_id	month	day	year	plot_id	species_id	sex	hindfoot_length	weight
2270	2271	1	15	1980	8	DO	M	35.0	53.0
2271	2272	1	15	1980	11	PF	F	16.0	10.0
2272	2273	1	15	1980	18	DM	F	34.0	33.0
2273	2274	1	15	1980	11	DM	M	38.0	37.0
2274	2275	1	15	1980	8	DO	F	33.0	29.0
...	...	...	...	...	...	...	...	...	...
11222	11223	12	8	1985	4	DM	M	36.0	40.0
11223	11224	12	8	1985	11	DM	M	37.0	49.0
11224	11225	12	8	1985	7	PE	M	20.0	18.0
11225	11226	12	8	1985	1	DM	M	38.0	47.0
11226	11227	12	8	1985	15	NaN	NaN	NaN	NaN
8957 rows × 9 columns
In [60]:

surveys_df[surveys_df['species_id'].isin([listGoesHere])]
---------------------------------------------------------------------------
NameError                                 Traceback (most recent call last)
<ipython-input-60-929b21ee81ae> in <module>
----> 1 surveys_df[surveys_df['species_id'].isin([listGoesHere])]

NameError: name 'listGoesHere' is not defined

In [61]:

x = 5
In [62]:

x > 5
Out[62]:
False
In [63]:

x == 5
Out[63]:
True
In [64]:

pd.isnull(surveys_df)
Out[64]:
record_id	month	day	year	plot_id	species_id	sex	hindfoot_length	weight
0	False	False	False	False	False	False	False	False	True
1	False	False	False	False	False	False	False	False	True
2	False	False	False	False	False	False	False	False	True
3	False	False	False	False	False	False	False	False	True
4	False	False	False	False	False	False	False	False	True
...	...	...	...	...	...	...	...	...	...
35544	False	False	False	False	False	False	True	True	True
35545	False	False	False	False	False	False	True	True	True
35546	False	False	False	False	False	False	False	False	False
35547	False	False	False	False	False	False	False	False	False
35548	False	False	False	False	False	True	True	True	True
35549 rows × 9 columns
In [65]:

surveys_df[pd.isnull(surveys_df).any(axis=1)]
Out[65]:
record_id	month	day	year	plot_id	species_id	sex	hindfoot_length	weight
0	1	7	16	1977	2	NL	M	32.0	NaN
1	2	7	16	1977	3	NL	M	33.0	NaN
2	3	7	16	1977	2	DM	F	37.0	NaN
3	4	7	16	1977	7	DM	M	36.0	NaN
4	5	7	16	1977	3	DM	M	35.0	NaN
...	...	...	...	...	...	...	...	...	...
35530	35531	12	31	2002	13	PB	F	27.0	NaN
35543	35544	12	31	2002	15	US	NaN	NaN	NaN
35544	35545	12	31	2002	15	AH	NaN	NaN	NaN
35545	35546	12	31	2002	15	AH	NaN	NaN	NaN
35548	35549	12	31	2002	5	NaN	NaN	NaN	NaN
4873 rows × 9 columns
In [66]:

empty_weights = surveys_df[pd.isnull(surveys_df['weight'])]['weight']
print(empty_weights)
0       NaN
1       NaN
2       NaN
3       NaN
4       NaN
         ..
35530   NaN
35543   NaN
35544   NaN
35545   NaN
35548   NaN
Name: weight, Length: 3266, dtype: float64
In [68]:

surveys_df = pd.read_csv("Downloads/surveys.csv")
In [69]:

type(surveys_df)
Out[69]:
pandas.core.frame.DataFrame
In [70]:

surveys_df['sex'].dtype
Out[70]:
dtype('O')
In [71]:

surveys_df['record_id'].dtype
Out[71]:
dtype('int64')
In [72]:

surveys_df.dtypes
Out[72]:
record_id            int64
month                int64
day                  int64
year                 int64
plot_id              int64
species_id          object
sex                 object
hindfoot_length    float64
weight             float64
dtype: object
In [73]:

print(5+5)
10
In [74]:

print(24-4)
20
In [75]:

print(5/9)
0.5555555555555556
In [76]:

print(10/3)
3.3333333333333335
In [77]:

a = 7.83
int(a)
Out[77]:
7
In [78]:

b = 7
float(b)
Out[78]:
7.0
In [79]:

surveys_df['record_id'] = surveys_df['record_id'].astype('float64')
surveys_df['record_id'].dtype
Out[79]:
dtype('float64')
In [80]:

surveys_df.plot_id.astype("float")
Out[80]:
0         2.0
1         3.0
2         2.0
3         7.0
4         3.0
         ... 
35544    15.0
35545    15.0
35546    10.0
35547     7.0
35548     5.0
Name: plot_id, Length: 35549, dtype: float64
In [81]:

surveys_df['weight'].mean()
Out[81]:
42.672428212991356
In [82]:

len(surveys_df[pd.isnull(surveys_df.weight)])
len(surveys_df[surveys_df.weight> 0])
Out[82]:
32283
In [83]:

df1 = surveys_df.copy()
df1['weight'] = df1['weight'].fillna(0)
In [84]:

df1['weight'].mean()
Out[84]:
38.751976145601844
In [85]:

df1['weight'] = surveys_df['weight'].fillna(surveys_df['weight'].mean())
In [86]:

surveys_df = pd.read_csv("Downloads/surveys.csv")
In [87]:

df_na = surveys_df.dropna()
In [89]:

df_na.to_csv('Downloads/surveys_complete.csv', index=False)
In [90]:

import pandas as pd
In [92]:

surveys_df = pd.read_csv("Downloads/surveys.csv",
                         keep_default_na=False, na_values=[""])
In [93]:

surveys_df
Out[93]:
record_id	month	day	year	plot_id	species_id	sex	hindfoot_length	weight
0	1	7	16	1977	2	NL	M	32.0	NaN
1	2	7	16	1977	3	NL	M	33.0	NaN
2	3	7	16	1977	2	DM	F	37.0	NaN
3	4	7	16	1977	7	DM	M	36.0	NaN
4	5	7	16	1977	3	DM	M	35.0	NaN
...	...	...	...	...	...	...	...	...	...
35544	35545	12	31	2002	15	AH	NaN	NaN	NaN
35545	35546	12	31	2002	15	AH	NaN	NaN	NaN
35546	35547	12	31	2002	10	RM	F	15.0	14.0
35547	35548	12	31	2002	7	DO	M	36.0	51.0
35548	35549	12	31	2002	5	NaN	NaN	NaN	NaN
35549 rows × 9 columns
In [102]:

species_df = pd.read_csv("Downloads/species.csv",
                         keep_default_na=False, na_values=[""])
In [103]:

species_df
Out[103]:
species_id	genus	species	taxa
0	AB	Amphispiza	bilineata	Bird
1	AH	Ammospermophilus	harrisi	Rodent
2	AS	Ammodramus	savannarum	Bird
3	BA	Baiomys	taylori	Rodent
4	CB	Campylorhynchus	brunneicapillus	Bird
5	CM	Calamospiza	melanocorys	Bird
6	CQ	Callipepla	squamata	Bird
7	CS	Crotalus	scutalatus	Reptile
8	CT	Cnemidophorus	tigris	Reptile
9	CU	Cnemidophorus	uniparens	Reptile
10	CV	Crotalus	viridis	Reptile
11	DM	Dipodomys	merriami	Rodent
12	DO	Dipodomys	ordii	Rodent
13	DS	Dipodomys	spectabilis	Rodent
14	DX	Dipodomys	sp.	Rodent
15	EO	Eumeces	obsoletus	Reptile
16	GS	Gambelia	silus	Reptile
17	NL	Neotoma	albigula	Rodent
18	NX	Neotoma	sp.	Rodent
19	OL	Onychomys	leucogaster	Rodent
20	OT	Onychomys	torridus	Rodent
21	OX	Onychomys	sp.	Rodent
22	PB	Chaetodipus	baileyi	Rodent
23	PC	Pipilo	chlorurus	Bird
24	PE	Peromyscus	eremicus	Rodent
25	PF	Perognathus	flavus	Rodent
26	PG	Pooecetes	gramineus	Bird
27	PH	Perognathus	hispidus	Rodent
28	PI	Chaetodipus	intermedius	Rodent
29	PL	Peromyscus	leucopus	Rodent
30	PM	Peromyscus	maniculatus	Rodent
31	PP	Chaetodipus	penicillatus	Rodent
32	PU	Pipilo	fuscus	Bird
33	PX	Chaetodipus	sp.	Rodent
34	RF	Reithrodontomys	fulvescens	Rodent
35	RM	Reithrodontomys	megalotis	Rodent
36	RO	Reithrodontomys	montanus	Rodent
37	RX	Reithrodontomys	sp.	Rodent
38	SA	Sylvilagus	audubonii	Rabbit
39	SB	Spizella	breweri	Bird
40	SC	Sceloporus	clarki	Reptile
41	SF	Sigmodon	fulviventer	Rodent
42	SH	Sigmodon	hispidus	Rodent
43	SO	Sigmodon	ochrognathus	Rodent
44	SS	Spermophilus	spilosoma	Rodent
45	ST	Spermophilus	tereticaudus	Rodent
46	SU	Sceloporus	undulatus	Reptile
47	SX	Sigmodon	sp.	Rodent
48	UL	Lizard	sp.	Reptile
49	UP	Pipilo	sp.	Bird
50	UR	Rodent	sp.	Rodent
51	US	Sparrow	sp.	Bird
52	ZL	Zonotrichia	leucophrys	Bird
53	ZM	Zenaida	macroura	Bird
In [104]:

survey_sub = surveys_df.head(10)
In [105]:

survey_sub_last10 = surveys_df.tail(10)
In [106]:

survey_sub_last10=survey_sub_last10.reset_index(drop=True)
In [107]:

vertical_stack = pd.concat([survey_sub, survey_sub_last10], axis=0)
In [108]:

horizontal_stack = pd.concat([survey_sub, survey_sub_last10], axis=1)
In [110]:

vertical_stack.to_csv('Downloads/out.csv', index=False)
In [111]:

new_output = pd.read_csv('Downloads/out.csv', keep_default_na=False, na_values=[""])
In [112]:

survey_sub = surveys_df.head(10)
In [113]:

species_sub = pd.read_csv('Downloads/speciesSubset.csv', keep_default_na=False, na_values=[""])
In [114]:

>>> species_sub.columns
Out[114]:
Index(['species_id', 'genus', 'species', 'taxa'], dtype='object')
In [115]:

>>> survey_sub.columns
Out[115]:
Index(['record_id', 'month', 'day', 'year', 'plot_id', 'species_id', 'sex',
       'hindfoot_length', 'weight'],
      dtype='object')
In [116]:

merged_inner = pd.merge(left=survey_sub,right=species_sub, left_on='species_id', right_on='species_id')
In [117]:

merged_inner.shape
merged_inner
Out[117]:
record_id	month	day	year	plot_id	species_id	sex	hindfoot_length	weight	genus	species	taxa
0	1	7	16	1977	2	NL	M	32.0	NaN	Neotoma	albigula	Rodent
1	2	7	16	1977	3	NL	M	33.0	NaN	Neotoma	albigula	Rodent
2	3	7	16	1977	2	DM	F	37.0	NaN	Dipodomys	merriami	Rodent
3	4	7	16	1977	7	DM	M	36.0	NaN	Dipodomys	merriami	Rodent
4	5	7	16	1977	3	DM	M	35.0	NaN	Dipodomys	merriami	Rodent
5	8	7	16	1977	1	DM	M	37.0	NaN	Dipodomys	merriami	Rodent
6	9	7	16	1977	1	DM	F	34.0	NaN	Dipodomys	merriami	Rodent
7	7	7	16	1977	2	PE	F	NaN	NaN	Peromyscus	eremicus	Rodent
In [118]:

merged_left = pd.merge(left=survey_sub,right=species_sub, how='left', left_on='species_id', right_on='species_id')
merged_left
Out[118]:
record_id	month	day	year	plot_id	species_id	sex	hindfoot_length	weight	genus	species	taxa
0	1	7	16	1977	2	NL	M	32.0	NaN	Neotoma	albigula	Rodent
1	2	7	16	1977	3	NL	M	33.0	NaN	Neotoma	albigula	Rodent
2	3	7	16	1977	2	DM	F	37.0	NaN	Dipodomys	merriami	Rodent
3	4	7	16	1977	7	DM	M	36.0	NaN	Dipodomys	merriami	Rodent
4	5	7	16	1977	3	DM	M	35.0	NaN	Dipodomys	merriami	Rodent
5	6	7	16	1977	1	PF	M	14.0	NaN	NaN	NaN	NaN
6	7	7	16	1977	2	PE	F	NaN	NaN	Peromyscus	eremicus	Rodent
7	8	7	16	1977	1	DM	M	37.0	NaN	Dipodomys	merriami	Rodent
8	9	7	16	1977	1	DM	F	34.0	NaN	Dipodomys	merriami	Rodent
9	10	7	16	1977	6	PF	F	20.0	NaN	NaN	NaN	NaN
In [119]:

merged_left[ pd.isnull(merged_left.genus) ]
Out[119]:
record_id	month	day	year	plot_id	species_id	sex	hindfoot_length	weight	genus	species	taxa
5	6	7	16	1977	1	PF	M	14.0	NaN	NaN	NaN	NaN
9	10	7	16	1977	6	PF	F	20.0	NaN	NaN	NaN	NaN
In [120]:

animals = ['lion', 'tiger', 'crocodile', 'vulture', 'hippo']
print(animals)
['lion', 'tiger', 'crocodile', 'vulture', 'hippo']
In [121]:

for creature in animals:
    print(creature)
lion
tiger
crocodile
vulture
hippo
In [122]:

animals = ['lion', 'tiger', 'crocodile', 'vulture', 'hippo']
for creature in animals:
    pass
In [123]:

print('The loop variable is now: ' + creature)
The loop variable is now: hippo
In [141]:

import os
In [140]:

os.listdir('Downloads/yearly_files')
Out[140]:
['speciesSubset.csv', 'species.csv', '.DS_Store', 'surveys.csv']
In [142]:

import pandas as pd
In [144]:

surveys_df = pd.read_csv('Downloads/surveys.csv')
In [145]:

surveys2002 = surveys_df[surveys_df.year == 2002]
In [148]:

surveys2002.to_csv('Downloads/surveys2002.csv')
In [149]:

surveys_df['year']
Out[149]:
0        1977
1        1977
2        1977
3        1977
4        1977
         ... 
35544    2002
35545    2002
35546    2002
35547    2002
35548    2002
Name: year, Length: 35549, dtype: int64
In [150]:

surveys_df['year'].unique()
Out[150]:
array([1977, 1978, 1979, 1980, 1981, 1982, 1983, 1984, 1985, 1986, 1987,
       1988, 1989, 1990, 1991, 1992, 1993, 1994, 1995, 1996, 1997, 1998,
       1999, 2000, 2001, 2002])
In [151]:

for year in surveys_df['year'].unique():
   filename='data/yearly_files/surveys' + str(year) + '.csv'
   print(filename)
data/yearly_files/surveys1977.csv
data/yearly_files/surveys1978.csv
data/yearly_files/surveys1979.csv
data/yearly_files/surveys1980.csv
data/yearly_files/surveys1981.csv
data/yearly_files/surveys1982.csv
data/yearly_files/surveys1983.csv
data/yearly_files/surveys1984.csv
data/yearly_files/surveys1985.csv
data/yearly_files/surveys1986.csv
data/yearly_files/surveys1987.csv
data/yearly_files/surveys1988.csv
data/yearly_files/surveys1989.csv
data/yearly_files/surveys1990.csv
data/yearly_files/surveys1991.csv
data/yearly_files/surveys1992.csv
data/yearly_files/surveys1993.csv
data/yearly_files/surveys1994.csv
data/yearly_files/surveys1995.csv
data/yearly_files/surveys1996.csv
data/yearly_files/surveys1997.csv
data/yearly_files/surveys1998.csv
data/yearly_files/surveys1999.csv
data/yearly_files/surveys2000.csv
data/yearly_files/surveys2001.csv
data/yearly_files/surveys2002.csv
In [162]:

filename = 'data/yearly_files/surveys' + str(year) + '.csv'
In [163]:

def this_is_the_function_name(input_argument1, input_argument2):
​
    
    print('The function arguments are:', input_argument1, input_argument2, '(this is done inside the function!)')
​
   
    return input_argument1 * input_argument2
In [164]:

product_of_inputs = this_is_the_function_name(2,5)
The function arguments are: 2 5 (this is done inside the function!)
In [165]:

print('Their product is:', product_of_inputs, '(this is done outside the function!)')
Their product is: 10 (this is done outside the function!)
In [166]:

def one_year_csv_writer(this_year, all_data):
    """
    Writes a csv file for data from a given year.
​
    this_year --- year for which data is extracted
    all_data --- DataFrame with multi-year data
    """
​
    
    surveys_year = all_data[all_data.year == this_year]
​
    
    filename = 'data/yearly_files/function_surveys' + str(this_year) + '.csv'
    surveys_year.to_csv(filename)
In [167]:

one_year_csv_writer?
In [169]:

def yearly_data_csv_writer(start_year, end_year, all_data):
    """
    Writes separate CSV files for each year of data.
​
    start_year --- the first year of data we want
    end_year --- the last year of data we want
    all_data --- DataFrame with multi-year data
    """
​
    
    for year in range(start_year, end_year+1):
        one_year_csv_writer(year, all_data)
In [174]:

surveys_df = pd.read_csv('Downloads/surveys.csv')
In [175]:

def yearly_data_arg_test(all_data, start_year = 1977, end_year = 2002):
    """
    Modified from yearly_data_csv_writer to test default argument values!
​
    start_year --- the first year of data we want --- default: 1977
    end_year --- the last year of data we want --- default: 2002
    all_data --- DataFrame with multi-year data
    """
​
    return start_year, end_year
​
​
start,end = yearly_data_arg_test (surveys_df, 1988, 1993)
print('Both optional arguments:\t', start, end)
​
start,end = yearly_data_arg_test (surveys_df)
print('Default values:\t\t\t', start, end)
Both optional arguments:	 1988 1993
Default values:			 1977 2002
In [176]:

def yearly_data_arg_test(all_data, start_year = None, end_year = None):
    """
    Modified from yearly_data_csv_writer to test default argument values!
​
    start_year --- the first year of data we want --- default: None - check all_data
    end_year --- the last year of data we want --- default: None - check all_data
    all_data --- DataFrame with multi-year data
    """
​
    if start_year is None:
        start_year = min(all_data.year)
    if end_year is None:
        end_year = max(all_data.year)
​
    return start_year, end_year
​
​
start,end = yearly_data_arg_test (surveys_df, 1988, 1993)
print('Both optional arguments:\t', start, end)
​
start,end = yearly_data_arg_test (surveys_df)
print('Default values:\t\t\t', start, end)
Both optional arguments:	 1988 1993
Default values:			 1977 2002
In [177]:

a = 5
​
if a<0:  
​
    
    print('a is a negative number')
​
elif a>0:  
    
    
    print('a is a positive number')
​
else:  
​
   
    print('a must be zero!')
​
a is a positive number
In [178]:

start,end = yearly_data_arg_test (surveys_df)
print('Default values:\t\t\t', start, end)
​
start,end = yearly_data_arg_test (surveys_df, 1988, 1993)
print('No keywords:\t\t\t', start, end)
​
start,end = yearly_data_arg_test (surveys_df, start_year = 1988, end_year = 1993)
print('Both keywords, in order:\t', start, end)
​
start,end = yearly_data_arg_test (surveys_df, end_year = 1993, start_year = 1988)
print('Both keywords, flipped:\t\t', start, end)
​
start,end = yearly_data_arg_test (surveys_df, start_year = 1988)
print('One keyword, default end:\t', start, end)
​
start,end = yearly_data_arg_test (surveys_df, end_year = 1993)
print('One keyword, default start:\t', start, end)
Default values:			 1977 2002
No keywords:			 1988 1993
Both keywords, in order:	 1988 1993
Both keywords, flipped:		 1988 1993
One keyword, default end:	 1988 2002
One keyword, default start:	 1977 1993
In [179]:

if 'dir_name_here' in os.listdir('.'):
   print('Processed directory exists')
else:
   os.mkdir('dir_name_here')
   print('Processed directory created')
Processed directory created
In [185]:

import pandas as pd
pd.read_csv?
In [186]:

df = pd.DataFrame({'1stcolumn':[100,200], '2ndcolumn':[10,20]})
print('With the old column names:\n')
print(df)
df.columns = ['FirstColumn','SecondColumn']
print('\n\nWith the new column names:\n')
print(df)
With the old column names:

   1stcolumn  2ndcolumn
0        100         10
1        200         20


With the new column names:

   FirstColumn  SecondColumn
0          100            10
1          200            20
In [187]:

import matplotlib.pyplot as plt
In [189]:

surveys = pd.read_csv("Downloads/surveys.csv")
my_plot = surveys.plot("hindfoot_length", "weight", kind="scatter")
plt.show()

In [190]:

pip install plotnine 
Collecting plotnine
  Downloading https://files.pythonhosted.org/packages/19/da/4d2f68e7436e76a3c26ccd804e1bfc5c58fca7a6cba06c71bab68b25e825/plotnine-0.6.0-py3-none-any.whl (4.1MB)
     |████████████████████████████████| 4.1MB 370kB/s eta 0:00:01
Requirement already satisfied: statsmodels>=0.9.0 in /opt/anaconda3/lib/python3.7/site-packages (from plotnine) (0.10.1)
Requirement already satisfied: scipy>=1.2.0 in /opt/anaconda3/lib/python3.7/site-packages (from plotnine) (1.3.1)
Requirement already satisfied: patsy>=0.4.1 in /opt/anaconda3/lib/python3.7/site-packages (from plotnine) (0.5.1)
Requirement already satisfied: numpy>=1.16.0 in /opt/anaconda3/lib/python3.7/site-packages (from plotnine) (1.17.2)
Requirement already satisfied: pandas>=0.25.0 in /opt/anaconda3/lib/python3.7/site-packages (from plotnine) (0.25.1)
Collecting descartes>=1.1.0 (from plotnine)
  Downloading https://files.pythonhosted.org/packages/e5/b6/1ed2eb03989ae574584664985367ba70cd9cf8b32ee8cad0e8aaeac819f3/descartes-1.1.0-py3-none-any.whl
Requirement already satisfied: matplotlib>=3.1.1 in /opt/anaconda3/lib/python3.7/site-packages (from plotnine) (3.1.1)
Collecting mizani>=0.6.0 (from plotnine)
  Downloading https://files.pythonhosted.org/packages/e3/76/7a2c9094547ee592f9f43f651ab824aa6599af5e1456250c3f4cc162aece/mizani-0.6.0-py2.py3-none-any.whl (61kB)
     |████████████████████████████████| 71kB 577kB/s eta 0:00:01
Requirement already satisfied: six in /opt/anaconda3/lib/python3.7/site-packages (from patsy>=0.4.1->plotnine) (1.12.0)
Requirement already satisfied: python-dateutil>=2.6.1 in /opt/anaconda3/lib/python3.7/site-packages (from pandas>=0.25.0->plotnine) (2.8.0)
Requirement already satisfied: pytz>=2017.2 in /opt/anaconda3/lib/python3.7/site-packages (from pandas>=0.25.0->plotnine) (2019.3)
Requirement already satisfied: cycler>=0.10 in /opt/anaconda3/lib/python3.7/site-packages (from matplotlib>=3.1.1->plotnine) (0.10.0)
Requirement already satisfied: kiwisolver>=1.0.1 in /opt/anaconda3/lib/python3.7/site-packages (from matplotlib>=3.1.1->plotnine) (1.1.0)
Requirement already satisfied: pyparsing!=2.0.4,!=2.1.2,!=2.1.6,>=2.0.1 in /opt/anaconda3/lib/python3.7/site-packages (from matplotlib>=3.1.1->plotnine) (2.4.2)
Collecting palettable (from mizani>=0.6.0->plotnine)
  Downloading https://files.pythonhosted.org/packages/ca/46/5198aa24e61bb7eef28d06cb69e56bfa1942f4b6807d95a0b5ce361fe09b/palettable-3.3.0-py2.py3-none-any.whl (111kB)
     |████████████████████████████████| 112kB 488kB/s eta 0:00:01
Requirement already satisfied: setuptools in /opt/anaconda3/lib/python3.7/site-packages (from kiwisolver>=1.0.1->matplotlib>=3.1.1->plotnine) (41.4.0)
Installing collected packages: descartes, palettable, mizani, plotnine
Successfully installed descartes-1.1.0 mizani-0.6.0 palettable-3.3.0 plotnine-0.6.0
Note: you may need to restart the kernel to use updated packages.
In [191]:

pip install 'plotnine[all]'
Requirement already satisfied: plotnine[all] in /opt/anaconda3/lib/python3.7/site-packages (0.6.0)
Requirement already satisfied: pandas>=0.25.0 in /opt/anaconda3/lib/python3.7/site-packages (from plotnine[all]) (0.25.1)
Requirement already satisfied: mizani>=0.6.0 in /opt/anaconda3/lib/python3.7/site-packages (from plotnine[all]) (0.6.0)
Requirement already satisfied: patsy>=0.4.1 in /opt/anaconda3/lib/python3.7/site-packages (from plotnine[all]) (0.5.1)
Requirement already satisfied: numpy>=1.16.0 in /opt/anaconda3/lib/python3.7/site-packages (from plotnine[all]) (1.17.2)
Requirement already satisfied: matplotlib>=3.1.1 in /opt/anaconda3/lib/python3.7/site-packages (from plotnine[all]) (3.1.1)
Requirement already satisfied: statsmodels>=0.9.0 in /opt/anaconda3/lib/python3.7/site-packages (from plotnine[all]) (0.10.1)
Requirement already satisfied: descartes>=1.1.0 in /opt/anaconda3/lib/python3.7/site-packages (from plotnine[all]) (1.1.0)
Requirement already satisfied: scipy>=1.2.0 in /opt/anaconda3/lib/python3.7/site-packages (from plotnine[all]) (1.3.1)
Collecting scikit-misc; extra == "all" (from plotnine[all])
  Downloading https://files.pythonhosted.org/packages/2e/2c/a9892b3549dc519baa9aa4fcd4740b3e54694edcce3af1e1d3b96fbe6152/scikit_misc-0.1.1-cp37-cp37m-macosx_10_6_intel.macosx_10_9_intel.macosx_10_9_x86_64.macosx_10_10_intel.macosx_10_10_x86_64.whl (1.5MB)
     |████████████████████████████████| 1.5MB 646kB/s eta 0:00:01
Requirement already satisfied: scikit-learn; extra == "all" in /opt/anaconda3/lib/python3.7/site-packages (from plotnine[all]) (0.21.3)
Requirement already satisfied: pytz>=2017.2 in /opt/anaconda3/lib/python3.7/site-packages (from pandas>=0.25.0->plotnine[all]) (2019.3)
Requirement already satisfied: python-dateutil>=2.6.1 in /opt/anaconda3/lib/python3.7/site-packages (from pandas>=0.25.0->plotnine[all]) (2.8.0)
Requirement already satisfied: palettable in /opt/anaconda3/lib/python3.7/site-packages (from mizani>=0.6.0->plotnine[all]) (3.3.0)
Requirement already satisfied: six in /opt/anaconda3/lib/python3.7/site-packages (from patsy>=0.4.1->plotnine[all]) (1.12.0)
Requirement already satisfied: cycler>=0.10 in /opt/anaconda3/lib/python3.7/site-packages (from matplotlib>=3.1.1->plotnine[all]) (0.10.0)
Requirement already satisfied: kiwisolver>=1.0.1 in /opt/anaconda3/lib/python3.7/site-packages (from matplotlib>=3.1.1->plotnine[all]) (1.1.0)
Requirement already satisfied: pyparsing!=2.0.4,!=2.1.2,!=2.1.6,>=2.0.1 in /opt/anaconda3/lib/python3.7/site-packages (from matplotlib>=3.1.1->plotnine[all]) (2.4.2)
Requirement already satisfied: joblib>=0.11 in /opt/anaconda3/lib/python3.7/site-packages (from scikit-learn; extra == "all"->plotnine[all]) (0.13.2)
Requirement already satisfied: setuptools in /opt/anaconda3/lib/python3.7/site-packages (from kiwisolver>=1.0.1->matplotlib>=3.1.1->plotnine[all]) (41.4.0)
Installing collected packages: scikit-misc
Successfully installed scikit-misc-0.1.1
Note: you may need to restart the kernel to use updated packages.
In [192]:

%matplotlib inline
In [193]:

import plotnine as p9
In [194]:

import pandas as pd
​
surveys_complete = pd.read_csv('Downloads/surveys.csv')
surveys_complete = surveys_complete.dropna()
In [195]:

(p9.ggplot(data=surveys_complete))

Out[195]:
<ggplot: (7558842677)>
In [196]:

(p9.ggplot(data=surveys_complete,
           mapping=p9.aes(x='weight', y='hindfoot_length')))

Out[196]:
<ggplot: (7558851773)>
In [197]:

(p9.ggplot(data=surveys_complete,
           mapping=p9.aes(x='weight', y='hindfoot_length'))
    + p9.geom_point()
)

Out[197]:
<ggplot: (7560732685)>
In [198]:

surveys_plot = p9.ggplot(data=surveys_complete,
                         mapping=p9.aes(x='weight', y='hindfoot_length'))
In [199]:

surveys_plot + p9.geom_point()

Out[199]:
<ggplot: (7560672933)>
In [200]:

(p9.ggplot(data=surveys_complete,
           mapping=p9.aes(x='weight', y='hindfoot_length'))
    + p9.geom_point()
)

Out[200]:
<ggplot: (7558842721)>
In [201]:

(p9.ggplot(data=surveys_complete,
           mapping=p9.aes(x='weight', y='hindfoot_length'))
    + p9.geom_point(alpha=0.1)
)

Out[201]:
<ggplot: (7560480757)>
In [202]:

(p9.ggplot(data=surveys_complete,
           mapping=p9.aes(x='weight', y='hindfoot_length'))
    + p9.geom_point(alpha=0.1, color='blue')
)

Out[202]:
<ggplot: (7562341925)>
In [203]:

(p9.ggplot(data=surveys_complete,
           mapping=p9.aes(x='weight',
                          y='hindfoot_length',
                          color='species_id'))
    + p9.geom_point(alpha=0.1)
)

Out[203]:
<ggplot: (7562339573)>
In [204]:

(p9.ggplot(data=surveys_complete,
           mapping=p9.aes(x='weight', y='hindfoot_length', color='species_id'))
    + p9.geom_point(alpha=0.1)
    + p9.xlab("Weight (g)")
)

Out[204]:
<ggplot: (7562339529)>
In [205]:

(p9.ggplot(data=surveys_complete,
           mapping=p9.aes(x='weight', y='hindfoot_length', color='species_id'))
    + p9.geom_point(alpha=0.1)
    + p9.xlab("Weight (g)")
    + p9.scale_x_log10()
)

Out[205]:
<ggplot: (7559494193)>
In [206]:

(p9.ggplot(data=surveys_complete,
           mapping=p9.aes(x='weight', y='hindfoot_length', color='species_id'))
    + p9.geom_point(alpha=0.1)
    + p9.xlab("Weight (g)")
    + p9.scale_x_log10()
    + p9.theme_bw()
    + p9.theme(text=p9.element_text(size=16))
)

Out[206]:
<ggplot: (7558846037)>
In [207]:

(p9.ggplot(data=surveys_complete,
           mapping=p9.aes(x='species_id',
                          y='weight'))
    + p9.geom_boxplot()
)

Out[207]:
<ggplot: (7562893481)>
In [208]:

(p9.ggplot(data=surveys_complete,
           mapping=p9.aes(x='species_id',
                          y='weight'))
    + p9.geom_jitter(alpha=0.2)
    + p9.geom_boxplot(alpha=0.)
)

Out[208]:
<ggplot: (7561364217)>
In [209]:

yearly_counts = surveys_complete.groupby(['year', 'species_id'])['species_id'].count()
yearly_counts
Out[209]:
year  species_id
1977  DM            181
      DO             12
      DS             29
      OL              1
      OX              2
                   ... 
2002  PP            375
      RM             20
      RO              7
      SF              5
      SH              9
Name: species_id, Length: 332, dtype: int64
In [210]:

yearly_counts = yearly_counts.reset_index(name='counts')
yearly_counts
Out[210]:
year	species_id	counts
0	1977	DM	181
1	1977	DO	12
2	1977	DS	29
3	1977	OL	1
4	1977	OX	2
...	...	...	...
327	2002	PP	375
328	2002	RM	20
329	2002	RO	7
330	2002	SF	5
331	2002	SH	9
332 rows × 3 columns
In [211]:

(p9.ggplot(data=yearly_counts,
           mapping=p9.aes(x='year',
                          y='counts'))
    + p9.geom_line()
)

Out[211]:
<ggplot: (7560084281)>
In [212]:

(p9.ggplot(data=yearly_counts,
           mapping=p9.aes(x='year',
                          y='counts',
                          color='species_id'))
    + p9.geom_line()
)

Out[212]:
<ggplot: (7559301573)>
In [213]:

(p9.ggplot(data=surveys_complete,
           mapping=p9.aes(x='weight',
                          y='hindfoot_length',
                          color='species_id'))
    + p9.geom_point(alpha=0.1)
)

Out[213]:
<ggplot: (7563931045)>
In [214]:

(p9.ggplot(data=surveys_complete,
           mapping=p9.aes(x='weight',
                          y='hindfoot_length',
                          color='species_id'))
    + p9.geom_point(alpha=0.1)
    + p9.facet_wrap("sex")
)

Out[214]:
<ggplot: (7563930273)>
In [215]:

(p9.ggplot(data=surveys_complete,
           mapping=p9.aes(x='weight',
                          y='hindfoot_length',
                          color='species_id'))
    + p9.geom_point(alpha=0.1)
    + p9.facet_wrap("plot_id")
)

Out[215]:
<ggplot: (7563647853)>
In [216]:

survey_2000 = surveys_complete[surveys_complete["year"].isin([2000, 2001])]
​
(p9.ggplot(data=survey_2000,
           mapping=p9.aes(x='weight',
                          y='hindfoot_length',
                          color='species_id'))
    + p9.geom_point(alpha=0.1)
    + p9.facet_grid("year ~ sex")
)

Out[216]:
<ggplot: (7563519981)>
In [219]:

(p9.ggplot(data=surveys_complete,
           mapping=p9.aes(x='factor(year)'))
    + p9.geom_bar()
)

Out[219]:
<ggplot: (7558846081)>
In [220]:

(p9.ggplot(data=surveys_complete,
           mapping=p9.aes(x='factor(year)'))
    + p9.geom_bar()
    + p9.theme_bw()
    + p9.theme(axis_text_x = p9.element_text(angle=90))
)

Out[220]:
<ggplot: (7559490577)>
In [221]:

my_custom_theme = p9.theme(axis_text_x = p9.element_text(color="grey", size=10,
                                                         angle=90, hjust=.5),
                           axis_text_y = p9.element_text(color="grey", size=10))
(p9.ggplot(data=surveys_complete,
           mapping=p9.aes(x='factor(year)'))
    + p9.geom_bar()
    + my_custom_theme
)

Out[221]:
<ggplot: (7562296121)>
In [222]:

my_plot = (p9.ggplot(data=surveys_complete,
           mapping=p9.aes(x='weight', y='hindfoot_length'))
    + p9.geom_point()
)
my_plot.save("scatterplot.png", width=10, height=10, dpi=300)
/opt/anaconda3/lib/python3.7/site-packages/plotnine/ggplot.py:729: PlotnineWarning: Saving 10 x 10 in image.
  from_inches(height, units), units), PlotnineWarning)
/opt/anaconda3/lib/python3.7/site-packages/plotnine/ggplot.py:730: PlotnineWarning: Filename: scatterplot.png
  warn('Filename: {}'.format(filename), PlotnineWarning)
In [224]:

import pandas as pd
In [225]:

pd.read_csv?
In [226]:

df = pd.DataFrame({'1stcolumn':[100,200], '2ndcolumn':[10,20]}) 
print('With the old column names:\n') 
print(df)
With the old column names:

   1stcolumn  2ndcolumn
0        100         10
1        200         20
In [227]:

df.columns = ['FirstColumn','SecondColumn'] 
print('\n\nWith the new column names:\n')
print(df)


With the new column names:

   FirstColumn  SecondColumn
0          100            10
1          200            20
In [228]:

import matplotlib.pyplot as plt
In [230]:

surveys = pd.read_csv("Downloads/surveys.csv")
my_plot = surveys.plot("hindfoot_length", "weight", kind="scatter")
plt.show()

In [231]:

%matplotlib inline
In [232]:

import numpy as np
sample_data = np.random.normal(0, 0.1, 1000)
In [233]:

plt.hist(sample_data)
Out[233]:
(array([  3.,  12.,  40., 111., 211., 247., 199., 113.,  46.,  18.]),
 array([-0.34655625, -0.28352234, -0.22048843, -0.15745452, -0.09442061,
        -0.0313867 ,  0.03164721,  0.09468112,  0.15771503,  0.22074894,
         0.28378285]),
 <a list of 10 Patch objects>)

In [234]:

fig, ax = plt.subplots() 
ax.hist(sample_data, 30)
Out[234]:
(array([ 1.,  1.,  1.,  5.,  2.,  5.,  6., 14., 20., 27., 36., 48., 57.,
        82., 72., 77., 88., 82., 75., 68., 56., 51., 35., 27., 20., 19.,
         7., 10.,  5.,  3.]),
 array([-0.34655625, -0.32554495, -0.30453364, -0.28352234, -0.26251104,
        -0.24149973, -0.22048843, -0.19947713, -0.17846582, -0.15745452,
        -0.13644322, -0.11543191, -0.09442061, -0.07340931, -0.052398  ,
        -0.0313867 , -0.0103754 ,  0.01063591,  0.03164721,  0.05265851,
         0.07366982,  0.09468112,  0.11569242,  0.13670373,  0.15771503,
         0.17872633,  0.19973764,  0.22074894,  0.24176024,  0.26277155,
         0.28378285]),
 <a list of 30 Patch objects>)

In [235]:

fig, ax1 = plt.subplots() 
ax1.hist(sample_data, 30)
​
​
a = 5
b = 10
beta_draws = np.random.beta(a, b)
​
ax1.set_ylabel('density')
ax1.set_xlabel('value')
​
​
ax2 = fig.add_axes([0.125, 0.575, 0.3, 0.3])
​
ax2.hist(beta_draws)
Out[235]:
(array([0., 0., 0., 0., 0., 1., 0., 0., 0., 0.]),
 array([-0.1604052, -0.0604052,  0.0395948,  0.1395948,  0.2395948,
         0.3395948,  0.4395948,  0.5395948,  0.6395948,  0.7395948,
         0.8395948]),
 <a list of 10 Patch objects>)

In [236]:

fig, ax1 = plt.subplots() 
​
surveys.plot("hindfoot_length", "weight", kind="scatter", ax=ax1)
​
​
ax1.set_xlabel("Hindfoot length")
ax1.tick_params(labelsize=16, pad=8)
fig.suptitle('Scatter plot of weight versus hindfoot length', fontsize=15)
Out[236]:
Text(0.5, 0.98, 'Scatter plot of weight versus hindfoot length')

In [237]:

import plotnine as p9
myplot = (p9.ggplot(data=surveys,
                    mapping=p9.aes(x='hindfoot_length', y='weight')) +
              p9.geom_point())
​
​
my_plt_version = myplot.draw()
​
​
p9_ax = my_plt_version.axes[0] 
p9_ax.set_xlabel("Hindfoot length")
p9_ax.tick_params(labelsize=16, pad=8)
p9_ax.set_title('Scatter plot of weight versus hindfoot length', fontsize=15)
plt.show() 
/opt/anaconda3/lib/python3.7/site-packages/plotnine/layer.py:452: PlotnineWarning: geom_point : Removed 4811 rows containing missing values.
  self.data = self.geom.handle_na(self.data)

In [240]:

discharge = pd.read_csv("Downloads/bouldercreek_09_2013.txt",
                        skiprows=27, delimiter="\t",
                        names=["agency", "site_id", "datetime",
                               "timezone", "discharge", "discharge_cd"])
discharge["datetime"] = pd.to_datetime(discharge["datetime"])
front_range = discharge[(discharge["datetime"] >= "2013-09-09") &
                        (discharge["datetime"] < "2013-09-15")]
​
fig, ax = plt.subplots()
front_range.plot(x ="datetime", y="discharge", ax=ax)
ax.set_xlabel("") 
ax.set_ylabel("Discharge, cubic feet per second")
ax.set_title(" Front Range flood event 2013")
discharge = pd.read_csv("Downloads/bouldercreek_09_2013.txt",
                      skiprows=27, delimiter="\t",
                      names=["agency", "site_id", "datetime",
                             "timezone", "flow_rate", "height"])
fig, ax = plt.subplots()
flood = discharge[(discharge["datetime"] >= "2013-09-11") &
                  (discharge["datetime"] < "2013-09-15")]
​
ax2 = fig.add_axes([0.65, 0.575, 0.25, 0.3])
flood.plot(x ="datetime", y="flow_rate", ax=ax)
discharge.plot(x ="datetime", y="flow_rate", ax=ax2)
ax2.legend().set_visible(False)
ax.set_xlabel("") 
ax.set_ylabel("Discharge, cubic feet per second")
ax.legend().set_visible(False)
ax.set_title(" Front Range flood event 2013")
discharge = pd.read_csv("Downloads/bouldercreek_09_2013.txt",
                      skiprows=27, delimiter="\t",
                      names=["agency", "site_id", "datetime",
                             "timezone", "flow_rate", "height"])
fig, ax = plt.subplots()
flood = discharge[(discharge["datetime"] >= "2013-09-11") &
                  (discharge["datetime"] < "2013-09-15")]
​
ax2 = fig.add_axes([0.65, 0.575, 0.25, 0.3])
flood.plot(x ="datetime", y="flow_rate", ax=ax)
discharge.plot(x ="datetime", y="flow_rate", ax=ax2)
ax2.legend().set_visible(False)
​
ax.set_xlabel("") 
ax.set_ylabel("Discharge, cubic feet per second")
ax.legend().set_visible(False)
ax.set_title(" Front Range flood event 2013")
Out[240]:
Text(0.5, 1.0, ' Front Range flood event 2013')



In [241]:

fig.savefig("my_plot_name.png")
In [242]:

fig.savefig("my_plot_name.pdf", dpi=300)
In [244]:

import sqlite3
In [246]:

con = sqlite3.connect("Downloads/portal_mammals.sqlite")
​
cur = con.cursor()
​
​
for row in cur.execute('SELECT * FROM species;'):
    print(row)
​
​
con.close()
('AB', 'Amphispiza', 'bilineata', 'Bird')
('AH', 'Ammospermophilus', 'harrisi', 'Rodent')
('AS', 'Ammodramus', 'savannarum', 'Bird')
('BA', 'Baiomys', 'taylori', 'Rodent')
('CB', 'Campylorhynchus', 'brunneicapillus', 'Bird')
('CM', 'Calamospiza', 'melanocorys', 'Bird')
('CQ', 'Callipepla', 'squamata', 'Bird')
('CS', 'Crotalus', 'scutalatus', 'Reptile')
('CT', 'Cnemidophorus', 'tigris', 'Reptile')
('CU', 'Cnemidophorus', 'uniparens', 'Reptile')
('CV', 'Crotalus', 'viridis', 'Reptile')
('DM', 'Dipodomys', 'merriami', 'Rodent')
('DO', 'Dipodomys', 'ordii', 'Rodent')
('DS', 'Dipodomys', 'spectabilis', 'Rodent')
('DX', 'Dipodomys', 'sp.', 'Rodent')
('EO', 'Eumeces', 'obsoletus', 'Reptile')
('GS', 'Gambelia', 'silus', 'Reptile')
('NL', 'Neotoma', 'albigula', 'Rodent')
('NX', 'Neotoma', 'sp.', 'Rodent')
('OL', 'Onychomys', 'leucogaster', 'Rodent')
('OT', 'Onychomys', 'torridus', 'Rodent')
('OX', 'Onychomys', 'sp.', 'Rodent')
('PB', 'Chaetodipus', 'baileyi', 'Rodent')
('PC', 'Pipilo', 'chlorurus', 'Bird')
('PE', 'Peromyscus', 'eremicus', 'Rodent')
('PF', 'Perognathus', 'flavus', 'Rodent')
('PG', 'Pooecetes', 'gramineus', 'Bird')
('PH', 'Perognathus', 'hispidus', 'Rodent')
('PI', 'Chaetodipus', 'intermedius', 'Rodent')
('PL', 'Peromyscus', 'leucopus', 'Rodent')
('PM', 'Peromyscus', 'maniculatus', 'Rodent')
('PP', 'Chaetodipus', 'penicillatus', 'Rodent')
('PU', 'Pipilo', 'fuscus', 'Bird')
('PX', 'Chaetodipus', 'sp.', 'Rodent')
('RF', 'Reithrodontomys', 'fulvescens', 'Rodent')
('RM', 'Reithrodontomys', 'megalotis', 'Rodent')
('RO', 'Reithrodontomys', 'montanus', 'Rodent')
('RX', 'Reithrodontomys', 'sp.', 'Rodent')
('SA', 'Sylvilagus', 'audubonii', 'Rabbit')
('SB', 'Spizella', 'breweri', 'Bird')
('SC', 'Sceloporus', 'clarki', 'Reptile')
('SF', 'Sigmodon', 'fulviventer', 'Rodent')
('SH', 'Sigmodon', 'hispidus', 'Rodent')
('SO', 'Sigmodon', 'ochrognathus', 'Rodent')
('SS', 'Spermophilus', 'spilosoma', 'Rodent')
('ST', 'Spermophilus', 'tereticaudus', 'Rodent')
('SU', 'Sceloporus', 'undulatus', 'Reptile')
('SX', 'Sigmodon', 'sp.', 'Rodent')
('UL', 'Lizard', 'sp.', 'Reptile')
('UP', 'Pipilo', 'sp.', 'Bird')
('UR', 'Rodent', 'sp.', 'Rodent')
('US', 'Sparrow', 'sp.', 'Bird')
('ZL', 'Zonotrichia', 'leucophrys', 'Bird')
('ZM', 'Zenaida', 'macroura', 'Bird')
In [249]:

import sqlite3
​
​
con = sqlite3.connect("Downloads/portal_mammals.sqlite")
​
cur = con.cursor()
​
​
cur.execute('SELECT plot_id FROM plots WHERE plot_type="Control"')
cur.fetchall()
​
​
cur.execute('SELECT species FROM species WHERE taxa="Bird"')
cur.fetchone()
​
​
con.close()
In [250]:

import pandas as pd
import sqlite3
​
​
con = sqlite3.connect("Downloads/portal_mammals.sqlite")
df = pd.read_sql_query("SELECT * from surveys", con)
​
​
print(df.head())
​
con.close()
   record_id  month  day  year  plot_id species_id sex  hindfoot_length  \
0          1      7   16  1977        2         NL   M             32.0   
1          2      7   16  1977        3         NL   M             33.0   
2          3      7   16  1977        2         DM   F             37.0   
3          4      7   16  1977        7         DM   M             36.0   
4          5      7   16  1977        3         DM   M             35.0   

   weight  
0     NaN  
1     NaN  
2     NaN  
3     NaN  
4     NaN  
In [251]:

import pandas as pd
import sqlite3
​
con = sqlite3.connect("Downloads/portal_mammals.sqlite")
​
​
surveys_df = pd.read_sql_query("SELECT * from surveys", con)
​
​
surveys2002 = surveys_df[surveys_df.year == 2002]
​
​
surveys2002.to_sql("surveys2002", con, if_exists="replace")
​
con.close()
In [ ]:

​
